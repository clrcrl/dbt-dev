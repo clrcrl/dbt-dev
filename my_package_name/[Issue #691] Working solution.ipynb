{
 "cells": [
  {
   "cell_type": "code",
   "execution_count": 1,
   "metadata": {
    "collapsed": true,
    "deletable": true,
    "editable": true
   },
   "outputs": [],
   "source": [
    "# 1. Import all the relevant dbt packages\n",
    "\n",
    "# Question: what's the difference between\n",
    "# from dbt import project\n",
    "# import dbt.project\n",
    "# Apart from the fact that you reference them differently?\n",
    "\n",
    "import dbt\n",
    "import dbt.project\n",
    "import dbt.config\n",
    "import dbt.parser\n",
    "import dbt.compilation\n"
   ]
  },
  {
   "cell_type": "code",
   "execution_count": 2,
   "metadata": {
    "collapsed": false,
    "deletable": true,
    "editable": true
   },
   "outputs": [
    {
     "data": {
      "text/plain": [
       "[['my_package_name', 'models', 'adwords', 'adwords_ads'],\n",
       " ['my_package_name', 'models', 'snowplow', 'base', 'snowplow_events']]"
      ]
     },
     "execution_count": 2,
     "metadata": {},
     "output_type": "execute_result"
    }
   ],
   "source": [
    "# 2. Generate a list of model fqns to be checked against \n",
    "project = dbt.project.read_project(\"dbt_project.yml\")\n",
    "\n",
    "model1 = dbt.parser.get_fqn('models/adwords/adwords_ads.sql', project)\n",
    "model2 = dbt.parser.get_fqn('models/snowplow/base/snowplow_events.sql', project)\n",
    "\n",
    "model_fqns = [model1, model2]\n",
    "model_fqns\n",
    "\n",
    "# To do: Build a get_nodes function to generate a list of nodes, and then the fqns\n",
    "# This should also consider external packages\n",
    "# Note: I couldn't get this to work - see below"
   ]
  },
  {
   "cell_type": "code",
   "execution_count": 13,
   "metadata": {
    "collapsed": false,
    "deletable": true,
    "editable": true
   },
   "outputs": [
    {
     "data": {
      "text/plain": [
       "[['my_package_name', 'adwords'],\n",
       " ['my_package_name', 'adwords', 'adwords_ads'],\n",
       " ['my_package_name', 'snowplow', 'base', 'snowplow_events']]"
      ]
     },
     "execution_count": 13,
     "metadata": {},
     "output_type": "execute_result"
    }
   ],
   "source": [
    "# 3. Generate a list of PQNs (partially qualified names?) for each model path specified in the project yml file\n",
    "\n",
    "ModelConfigKeys = [\n",
    "        'schema',\n",
    "        'enabled',\n",
    "        'materialized',\n",
    "        'dist',\n",
    "        'sort',\n",
    "        'sql_where',\n",
    "        'unique_key',\n",
    "        'sort_type',\n",
    "        'bind',\n",
    "        'vars',\n",
    "        'pre-hook',\n",
    "        'post-hook'\n",
    "    ]\n",
    "# Is this list exhaustive? Based on these lists: https://github.com/fishtown-analytics/dbt/blob/a5d17a30c774e9b967293eef2d94d755018dc57e/dbt/model.py#L14\n",
    "\n",
    "# model_config_pqns = []\n",
    "\n",
    "# \n",
    "\n",
    "# General approach:\n",
    "# a. Traverse each path in the project_yml['models'] file\n",
    "# b. Stop when you hit one of the above keywords\n",
    "# c. And add the list of preceding to the model_config_pqns list\n",
    "\n",
    "def get_model_config_pqn( config_models, pqn = None ,model_config_pqns = None):\n",
    "    if pqn is None:\n",
    "        pqn = []\n",
    "    # could also write `pqn = pqn or []`\n",
    "    if model_config_pqns is None:\n",
    "        model_config_pqns = []\n",
    "    # why can't I have model_config_pqns = [] here?\n",
    "    for k,v in config_models.items():\n",
    "        # If the next level is a dictionary\n",
    "        if isinstance(v,dict):\n",
    "            # If the key is a config key, add the list of keys to the model_config_pqns list\n",
    "            # base case - when you get to a model config key\n",
    "            if k in ModelConfigKeys: \n",
    "                if pqn not in model_config_pqns and pqn:\n",
    "                    model_config_pqns.append(pqn)\n",
    "            # Else, keep iterating\n",
    "            # recursive case\n",
    "            else:\n",
    "                get_model_config_pqn( v, pqn + [k], model_config_pqns)\n",
    "        # If you've reached the end of the path, add the path\n",
    "        # base case - when you reach the end of the dictionary\n",
    "        else:\n",
    "            if pqn not in model_config_pqns and pqn:\n",
    "                model_config_pqns.append(pqn)\n",
    "\n",
    "    return model_config_pqns\n",
    "            \n",
    "model_config_pqns = get_model_config_pqn(project['models']) \n",
    "model_config_pqns\n"
   ]
  },
  {
   "cell_type": "code",
   "execution_count": 11,
   "metadata": {
    "collapsed": false
   },
   "outputs": [
    {
     "data": {
      "text/plain": [
       "True"
      ]
     },
     "execution_count": 11,
     "metadata": {},
     "output_type": "execute_result"
    }
   ],
   "source": [
    "def get_model_config_pqn( config_models, pqn = None ,model_config_pqns = None):\n",
    "    if pqn is None:\n",
    "        pqn = []\n",
    "    # could also write `pqn = pqn or []`\n",
    "    if model_config_pqns is None:\n",
    "        model_config_pqns = []\n",
    "    \n",
    "    if not isinstance(config_models, dict):\n",
    "        return model_config_pqns\n",
    "        \n",
    "    for k,v in config_models.items():\n",
    "        # If the next level is a dictionary\n",
    "        # If the key is a config key, add the list of keys to the model_config_pqns list\n",
    "        # base case - when you get to a model config key\n",
    "        if k in ModelConfigKeys: \n",
    "            if pqn not in model_config_pqns and pqn:\n",
    "                pass\n",
    "#                 model_config_pqns.append(pqn)\n",
    "        # Else, keep iterating\n",
    "        # recursive case\n",
    "        else:\n",
    "            return model_config_pqns + get_model_config_pqn( v, pqn + [k], model_config_pqns)bra\n",
    "#             get_model_config_pqn( v, pqn + [k], model_config_pqns)\n",
    "    # If you've reached the end of the path, add the path\n",
    "        # base case - when you reach the end of the dictionary\n",
    "\n",
    "    return model_config_pqns\n",
    "            \n",
    "model_config_pqns = get_model_config_pqn(project['models']) \n",
    "model_config_pqns"
   ]
  },
  {
   "cell_type": "code",
   "execution_count": 6,
   "metadata": {
    "collapsed": false,
    "deletable": true,
    "editable": true
   },
   "outputs": [
    {
     "name": "stdout",
     "output_type": "stream",
     "text": [
      "True\n",
      "True\n",
      "True\n",
      "False\n",
      "False\n",
      "False\n"
     ]
    }
   ],
   "source": [
    "# 4. Build a function that checks where a pqn exists in a pqn (even if it has other items in between)\n",
    "# Note: I'm not confident that this is the best way to write this loop\n",
    "\n",
    "def is_pqn_in_fqn(pqn, fqn):\n",
    "    for item in pqn:\n",
    "        # there's a better word than \"item\" here...\n",
    "        # check that the current directory exists in the fqn\n",
    "        if item in fqn:\n",
    "            # if it does, then update the fqn to that it now only contains item after that item\n",
    "            fqn = fqn[fqn.index(item)+1:]\n",
    "        else:\n",
    "            # if it doesn't then return false and exit the loop\n",
    "            return False\n",
    "            break\n",
    "    # if the loop doesn't get broken, turn True\n",
    "    return True\n",
    "        \n",
    "# these should return true\n",
    "print(is_pqn_in_fqn(['a', 'b'], ['a', 'b', 'c', 'd']))\n",
    "print(is_pqn_in_fqn(['a', 'c'], ['a', 'b', 'c', 'd']))\n",
    "print(is_pqn_in_fqn(['b', 'd'], ['a', 'b', 'c', 'd']))\n",
    "\n",
    "# these should return false\n",
    "print(is_pqn_in_fqn(['a', 'b', 'e'], ['a', 'b', 'c', 'd']))\n",
    "print(is_pqn_in_fqn(['a', 'a', 'b'], ['a', 'b', 'c', 'd']))\n",
    "print(is_pqn_in_fqn(['b', 'a'], ['a', 'b', 'c', 'd']))"
   ]
  },
  {
   "cell_type": "code",
   "execution_count": 7,
   "metadata": {
    "collapsed": false,
    "deletable": true,
    "editable": true
   },
   "outputs": [
    {
     "name": "stdout",
     "output_type": "stream",
     "text": [
      ":WOO: Your config ['my_package_name', 'adwords'] is valid\n",
      ":WOO: Your config ['my_package_name', 'adwords', 'adwords_ads'] is valid\n",
      "Your config ['my_package_name', 'snowplow', 'base', 'snowplow_events'] doesn't point to a model\n",
      ":WOO: Your config ['my_package_name', 'snowplow', 'base', 'snowplow_events'] is valid\n"
     ]
    }
   ],
   "source": [
    "# 5. Check if each pqn is valid, by checking whether it matches at least one fqn (using the above function)\n",
    "# Note: What if it matches two? Is that ok?\n",
    "\n",
    "def check_config_pqns(model_config_pqns, model_fqns):\n",
    "    for pqn in model_config_pqns:\n",
    "        for fqn in model_fqns:\n",
    "            if is_pqn_in_fqn(pqn, fqn):\n",
    "                print(\":WOO: Your config \" + str(pqn) + \" is valid\")\n",
    "                break\n",
    "            print(\"Your config \" + str(pqn) + \" doesn't point to a model\")\n",
    "check_config_pqns(model_config_pqns, model_fqns)"
   ]
  },
  {
   "cell_type": "code",
   "execution_count": null,
   "metadata": {
    "collapsed": true,
    "deletable": true,
    "editable": true
   },
   "outputs": [],
   "source": [
    "# This part was me mucking around to try and generate the model_fqns by first returning the nodes... didn't quite get there.\n",
    "\n",
    "results = dbt.compilation.Compiler(project)\n",
    "\n",
    "# for each node, get_fqn\n",
    "def get_nodes(package_name, root_project, all_projects, root_dir,\n",
    "                       relative_dirs, resource_type):\n",
    "    extension = \"[!.#~]*.sql\"\n",
    "\n",
    "    if dbt.flags.STRICT_MODE:\n",
    "        dbt.contracts.project.validate_list(all_projects)\n",
    "\n",
    "    file_matches = dbt.clients.system.find_matching(\n",
    "        root_dir,\n",
    "        relative_dirs,\n",
    "        extension)\n",
    "\n",
    "    result = []\n",
    "\n",
    "    for file_match in file_matches:\n",
    "        file_contents = dbt.clients.system.load_file_contents(\n",
    "            file_match.get('absolute_path'))\n",
    "\n",
    "        parts = dbt.utils.split_path(file_match.get('relative_path', ''))\n",
    "        name, _ = os.path.splitext(parts[-1])\n",
    "\n",
    "        if resource_type == NodeType.Test:\n",
    "            path = dbt.utils.get_pseudo_test_path(\n",
    "                name, file_match.get('relative_path'), 'data_test')\n",
    "        elif resource_type == NodeType.Analysis:\n",
    "            path = os.path.join('analysis', file_match.get('relative_path'))\n",
    "        else:\n",
    "            path = file_match.get('relative_path')\n",
    "\n",
    "        original_file_path = os.path.join(\n",
    "            file_match.get('searched_path'),\n",
    "            path)\n",
    "\n",
    "        result.append({\n",
    "            'name': name,\n",
    "            'root_path': root_dir,\n",
    "            'resource_type': resource_type,\n",
    "            'path': path,\n",
    "            'original_file_path': original_file_path,\n",
    "            'package_name': package_name,\n",
    "            'raw_sql': file_contents\n",
    "        })\n",
    "\n",
    "package_name='my_package_name',\n",
    "root_project=project,\n",
    "all_projects=results.get_all_projects(),\n",
    "root_dir=project.get('project-root'),\n",
    "relative_dirs=project.get('source-paths', []),\n",
    "resource_type=NodeType.Model\n",
    "\n",
    "nodes = get_nodes(package_name, \n",
    "                  root_project, \n",
    "                  all_projects, \n",
    "                  root_dir,\n",
    "                  relative_dirs,\n",
    "                  resource_type)\n",
    "# for node in nodes:\n",
    "#     print(node)"
   ]
  }
 ],
 "metadata": {
  "kernelspec": {
   "display_name": "Python 3",
   "language": "python",
   "name": "python3"
  },
  "language_info": {
   "codemirror_mode": {
    "name": "ipython",
    "version": 3
   },
   "file_extension": ".py",
   "mimetype": "text/x-python",
   "name": "python",
   "nbconvert_exporter": "python",
   "pygments_lexer": "ipython3",
   "version": "3.6.4"
  }
 },
 "nbformat": 4,
 "nbformat_minor": 2
}
